{
  "nbformat": 4,
  "nbformat_minor": 0,
  "metadata": {
    "colab": {
      "provenance": []
    },
    "kernelspec": {
      "name": "python3",
      "display_name": "Python 3"
    },
    "language_info": {
      "name": "python"
    }
  },
  "cells": [
    {
      "cell_type": "code",
      "execution_count": null,
      "metadata": {
        "colab": {
          "base_uri": "https://localhost:8080/"
        },
        "id": "z5PBVoUUeIqc",
        "outputId": "5ac6e514-036c-49ea-e0b2-f7dfef7d83f2"
      },
      "outputs": [
        {
          "output_type": "stream",
          "name": "stdout",
          "text": [
            "Requirement already satisfied: pyspark in /usr/local/lib/python3.12/dist-packages (3.5.1)\n",
            "Requirement already satisfied: py4j==0.10.9.7 in /usr/local/lib/python3.12/dist-packages (from pyspark) (0.10.9.7)\n"
          ]
        }
      ],
      "source": [
        "# Instalando PySpark no Colab\n",
        "!pip install pyspark"
      ]
    },
    {
      "cell_type": "code",
      "source": [
        "from pyspark.sql import SparkSession\n",
        "from pyspark.sql.functions import col"
      ],
      "metadata": {
        "id": "6iD2oGSPe4zn"
      },
      "execution_count": null,
      "outputs": []
    },
    {
      "cell_type": "code",
      "source": [
        "# Criando sessão Spark\n",
        "# Em cluster real ou na nuvem, SparkSession coordena as tarefas do cluster (divide atividades grandes em partes menores e distribui para os nós)\n",
        "spark = SparkSession.builder.appName(\"Exemplo\").getOrCreate()"
      ],
      "metadata": {
        "id": "QC8q6HT2fC1f"
      },
      "execution_count": null,
      "outputs": []
    },
    {
      "cell_type": "code",
      "source": [
        "df = spark.read.csv(\"/content/memes.csv\", header=True, inferSchema=True)"
      ],
      "metadata": {
        "id": "CFnS-PPhfF0B"
      },
      "execution_count": null,
      "outputs": []
    },
    {
      "cell_type": "code",
      "source": [
        "#3. Mostre as primeiras 10 linhas do DataFrame.\n",
        "\n",
        "df.show(10)"
      ],
      "metadata": {
        "colab": {
          "base_uri": "https://localhost:8080/"
        },
        "id": "E5LaEAcbfYgk",
        "outputId": "92d7c634-384b-428c-ccdd-bef69ab2eb53"
      },
      "execution_count": null,
      "outputs": [
        {
          "output_type": "stream",
          "name": "stdout",
          "text": [
            "+-------+--------------------+--------------------+-----------+-------+--------+-------------------+\n",
            "|post_id|               title|                 url|  subreddit|upvotes|comments|            created|\n",
            "+-------+--------------------+--------------------+-----------+-------+--------+-------------------+\n",
            "|      1|  Quando o Professor|https://example.c...|  r/HumorBR|   1110|      75|2025-06-16 18:57:27|\n",
            "|      2|         Dois Botões|https://example.c...|  r/HumorBR|    527|     412|2024-11-24 18:57:27|\n",
            "|      3|   Perdendo a Cabeça|https://example.c...|  r/HumorBR|   1805|     375|2025-02-19 18:57:27|\n",
            "|      4|    Esquema de Memes|https://example.c...|    r/memes|   2398|     152|2024-10-03 18:57:27|\n",
            "|      5|   Memes de Internet|https://example.c...|r/dankmemes|   2055|     453|2025-05-23 18:57:27|\n",
            "|      6|    Memes de Família|https://example.c...|    r/funny|     65|     174|2024-10-20 18:57:27|\n",
            "|      7|    Reação de Filmes|https://example.c...|r/dankmemes|   4914|     157|2025-06-10 18:57:27|\n",
            "|      8|   Memes de Internet|https://example.c...|  r/HumorBR|   4770|     439|2025-03-15 18:57:27|\n",
            "|      9|  Namorado Distraído|https://example.c...|    r/memes|   2526|     386|2024-12-28 18:57:27|\n",
            "|     10|Mulher Gritando c...|https://example.c...|r/dankmemes|   3558|     409|2024-10-18 18:57:27|\n",
            "+-------+--------------------+--------------------+-----------+-------+--------+-------------------+\n",
            "only showing top 10 rows\n",
            "\n"
          ]
        }
      ]
    },
    {
      "cell_type": "code",
      "source": [
        "#4. Conte quantos memes têm mais de 1000 upvotes.\n",
        "#nao colocar.show quando for conta o filtro\n",
        "\n",
        "df3 = df.filter(df.upvotes > 1000)\n",
        "df3.count()\n"
      ],
      "metadata": {
        "colab": {
          "base_uri": "https://localhost:8080/"
        },
        "id": "qkCco9t4fmol",
        "outputId": "298c23c3-244a-4656-89b3-f751cac0f758"
      },
      "execution_count": null,
      "outputs": [
        {
          "output_type": "execute_result",
          "data": {
            "text/plain": [
              "38"
            ]
          },
          "metadata": {},
          "execution_count": 51
        }
      ]
    },
    {
      "cell_type": "code",
      "source": [
        "#5. Filtre os memes que contêm a palavra \"programming\" no título e mostre os 5 primeiros.\n",
        "#df3 = df.filter(df.title == 'Dois Botões').show()\n",
        "\n",
        "df3 = df.filter(df.title == 'programming').show()\n",
        "\n"
      ],
      "metadata": {
        "colab": {
          "base_uri": "https://localhost:8080/"
        },
        "id": "l4cNF4TBlVcm",
        "outputId": "71dbdbe2-ff0b-465c-c2d4-8dbf3f2599ca"
      },
      "execution_count": null,
      "outputs": [
        {
          "output_type": "stream",
          "name": "stdout",
          "text": [
            "+-------+-----+---+---------+-------+--------+-------+\n",
            "|post_id|title|url|subreddit|upvotes|comments|created|\n",
            "+-------+-----+---+---------+-------+--------+-------+\n",
            "+-------+-----+---+---------+-------+--------+-------+\n",
            "\n"
          ]
        }
      ]
    },
    {
      "cell_type": "code",
      "source": [
        "#Calcular o número médio de upvotes por subreddit.\n",
        "\n",
        "#df.groupBy(subreddit).avg(\"upvotes\")\n",
        "\n",
        "df.groupBy(\"subreddit\").avg(\"upvotes\").show()"
      ],
      "metadata": {
        "colab": {
          "base_uri": "https://localhost:8080/"
        },
        "id": "SJpPAzURi4Xr",
        "outputId": "2f38c3fe-4508-43a7-ef17-b233eb6f478b"
      },
      "execution_count": null,
      "outputs": [
        {
          "output_type": "stream",
          "name": "stdout",
          "text": [
            "+-----------+------------------+\n",
            "|  subreddit|      avg(upvotes)|\n",
            "+-----------+------------------+\n",
            "|r/dankmemes|2487.0833333333335|\n",
            "|    r/memes| 2629.777777777778|\n",
            "|    r/funny|2015.5833333333333|\n",
            "|  r/HumorBR| 2654.823529411765|\n",
            "+-----------+------------------+\n",
            "\n"
          ]
        }
      ]
    },
    {
      "cell_type": "code",
      "source": [
        "#7. Identificar qual meme recebeu o maior número de comentários.\n",
        "\n",
        "#df.groupBy(\"subreddit\").avg(\"upvotes\").show()\n",
        "\n",
        "df.orderBy(col(\"comments\").desc()).show(5)\n"
      ],
      "metadata": {
        "colab": {
          "base_uri": "https://localhost:8080/"
        },
        "id": "mqHOr59SnVEx",
        "outputId": "39bed8b2-a46a-45f2-d929-aaac74e9ca88"
      },
      "execution_count": null,
      "outputs": [
        {
          "output_type": "stream",
          "name": "stdout",
          "text": [
            "+-------+------------------+--------------------+-----------+-------+--------+-------------------+\n",
            "|post_id|             title|                 url|  subreddit|upvotes|comments|            created|\n",
            "+-------+------------------+--------------------+-----------+-------+--------+-------------------+\n",
            "|     33|Namorado Distraído|https://example.c...|    r/funny|    651|     492|2024-12-27 18:57:27|\n",
            "|     45|       Tuxedo Pooh|https://example.c...|    r/memes|   2949|     489|2024-09-09 18:57:27|\n",
            "|     34|Quando o Professor|https://example.c...|    r/memes|   4566|     482|2025-02-10 18:57:27|\n",
            "|      5| Memes de Internet|https://example.c...|r/dankmemes|   2055|     453|2025-05-23 18:57:27|\n",
            "|      8| Memes de Internet|https://example.c...|  r/HumorBR|   4770|     439|2025-03-15 18:57:27|\n",
            "+-------+------------------+--------------------+-----------+-------+--------+-------------------+\n",
            "only showing top 5 rows\n",
            "\n"
          ]
        }
      ]
    }
  ]
}