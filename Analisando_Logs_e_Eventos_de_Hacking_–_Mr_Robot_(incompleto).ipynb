{
  "nbformat": 4,
  "nbformat_minor": 0,
  "metadata": {
    "colab": {
      "provenance": []
    },
    "kernelspec": {
      "name": "python3",
      "display_name": "Python 3"
    },
    "language_info": {
      "name": "python"
    }
  },
  "cells": [
    {
      "cell_type": "code",
      "execution_count": null,
      "metadata": {
        "id": "YllNOAzgVnHb"
      },
      "outputs": [],
      "source": [
        "import pandas as pd"
      ]
    },
    {
      "cell_type": "code",
      "source": [
        "import matplotlib.pyplot as plt"
      ],
      "metadata": {
        "id": "3xDmpjjMYWNv"
      },
      "execution_count": null,
      "outputs": []
    },
    {
      "cell_type": "code",
      "source": [
        "ratings_df = pd.read_csv('/mr_robot_events.csv')\n",
        "print(ratings_df.shape)"
      ],
      "metadata": {
        "colab": {
          "base_uri": "https://localhost:8080/"
        },
        "id": "yY9ri_imY5LM",
        "outputId": "6623dc6e-ee2a-4edd-b92f-fb1220d3e1c0"
      },
      "execution_count": null,
      "outputs": [
        {
          "output_type": "stream",
          "name": "stdout",
          "text": [
            "(1000000, 6)\n"
          ]
        }
      ]
    },
    {
      "cell_type": "code",
      "source": [
        "pd.read_csv('/mr_robot_events.csv').head()"
      ],
      "metadata": {
        "colab": {
          "base_uri": "https://localhost:8080/",
          "height": 206
        },
        "id": "SlwQpbwtgptI",
        "outputId": "23f02b8c-41e6-4a20-a920-517d9312af86"
      },
      "execution_count": null,
      "outputs": [
        {
          "output_type": "execute_result",
          "data": {
            "text/plain": [
              "             timestamp       usuario         acao         sistema_alvo  \\\n",
              "0  2025-01-01 00:00:00        tyrell  exfiltracao  servidor_financeiro   \n",
              "1  2025-01-01 00:01:00  fsociety_bot     phishing         rede_interna   \n",
              "2  2025-01-01 00:02:00        angela         ddos         rede_interna   \n",
              "3  2025-01-01 00:03:00  fsociety_bot     phishing  servidor_financeiro   \n",
              "4  2025-01-01 00:04:00  fsociety_bot  exfiltracao        cloud_storage   \n",
              "\n",
              "  resultado  impacto  \n",
              "0   sucesso        8  \n",
              "1   sucesso       81  \n",
              "2     falha       19  \n",
              "3   sucesso       43  \n",
              "4   sucesso       37  "
            ],
            "text/html": [
              "\n",
              "  <div id=\"df-a244c4ee-929d-4953-8222-3ded7e105010\" class=\"colab-df-container\">\n",
              "    <div>\n",
              "<style scoped>\n",
              "    .dataframe tbody tr th:only-of-type {\n",
              "        vertical-align: middle;\n",
              "    }\n",
              "\n",
              "    .dataframe tbody tr th {\n",
              "        vertical-align: top;\n",
              "    }\n",
              "\n",
              "    .dataframe thead th {\n",
              "        text-align: right;\n",
              "    }\n",
              "</style>\n",
              "<table border=\"1\" class=\"dataframe\">\n",
              "  <thead>\n",
              "    <tr style=\"text-align: right;\">\n",
              "      <th></th>\n",
              "      <th>timestamp</th>\n",
              "      <th>usuario</th>\n",
              "      <th>acao</th>\n",
              "      <th>sistema_alvo</th>\n",
              "      <th>resultado</th>\n",
              "      <th>impacto</th>\n",
              "    </tr>\n",
              "  </thead>\n",
              "  <tbody>\n",
              "    <tr>\n",
              "      <th>0</th>\n",
              "      <td>2025-01-01 00:00:00</td>\n",
              "      <td>tyrell</td>\n",
              "      <td>exfiltracao</td>\n",
              "      <td>servidor_financeiro</td>\n",
              "      <td>sucesso</td>\n",
              "      <td>8</td>\n",
              "    </tr>\n",
              "    <tr>\n",
              "      <th>1</th>\n",
              "      <td>2025-01-01 00:01:00</td>\n",
              "      <td>fsociety_bot</td>\n",
              "      <td>phishing</td>\n",
              "      <td>rede_interna</td>\n",
              "      <td>sucesso</td>\n",
              "      <td>81</td>\n",
              "    </tr>\n",
              "    <tr>\n",
              "      <th>2</th>\n",
              "      <td>2025-01-01 00:02:00</td>\n",
              "      <td>angela</td>\n",
              "      <td>ddos</td>\n",
              "      <td>rede_interna</td>\n",
              "      <td>falha</td>\n",
              "      <td>19</td>\n",
              "    </tr>\n",
              "    <tr>\n",
              "      <th>3</th>\n",
              "      <td>2025-01-01 00:03:00</td>\n",
              "      <td>fsociety_bot</td>\n",
              "      <td>phishing</td>\n",
              "      <td>servidor_financeiro</td>\n",
              "      <td>sucesso</td>\n",
              "      <td>43</td>\n",
              "    </tr>\n",
              "    <tr>\n",
              "      <th>4</th>\n",
              "      <td>2025-01-01 00:04:00</td>\n",
              "      <td>fsociety_bot</td>\n",
              "      <td>exfiltracao</td>\n",
              "      <td>cloud_storage</td>\n",
              "      <td>sucesso</td>\n",
              "      <td>37</td>\n",
              "    </tr>\n",
              "  </tbody>\n",
              "</table>\n",
              "</div>\n",
              "    <div class=\"colab-df-buttons\">\n",
              "\n",
              "  <div class=\"colab-df-container\">\n",
              "    <button class=\"colab-df-convert\" onclick=\"convertToInteractive('df-a244c4ee-929d-4953-8222-3ded7e105010')\"\n",
              "            title=\"Convert this dataframe to an interactive table.\"\n",
              "            style=\"display:none;\">\n",
              "\n",
              "  <svg xmlns=\"http://www.w3.org/2000/svg\" height=\"24px\" viewBox=\"0 -960 960 960\">\n",
              "    <path d=\"M120-120v-720h720v720H120Zm60-500h600v-160H180v160Zm220 220h160v-160H400v160Zm0 220h160v-160H400v160ZM180-400h160v-160H180v160Zm440 0h160v-160H620v160ZM180-180h160v-160H180v160Zm440 0h160v-160H620v160Z\"/>\n",
              "  </svg>\n",
              "    </button>\n",
              "\n",
              "  <style>\n",
              "    .colab-df-container {\n",
              "      display:flex;\n",
              "      gap: 12px;\n",
              "    }\n",
              "\n",
              "    .colab-df-convert {\n",
              "      background-color: #E8F0FE;\n",
              "      border: none;\n",
              "      border-radius: 50%;\n",
              "      cursor: pointer;\n",
              "      display: none;\n",
              "      fill: #1967D2;\n",
              "      height: 32px;\n",
              "      padding: 0 0 0 0;\n",
              "      width: 32px;\n",
              "    }\n",
              "\n",
              "    .colab-df-convert:hover {\n",
              "      background-color: #E2EBFA;\n",
              "      box-shadow: 0px 1px 2px rgba(60, 64, 67, 0.3), 0px 1px 3px 1px rgba(60, 64, 67, 0.15);\n",
              "      fill: #174EA6;\n",
              "    }\n",
              "\n",
              "    .colab-df-buttons div {\n",
              "      margin-bottom: 4px;\n",
              "    }\n",
              "\n",
              "    [theme=dark] .colab-df-convert {\n",
              "      background-color: #3B4455;\n",
              "      fill: #D2E3FC;\n",
              "    }\n",
              "\n",
              "    [theme=dark] .colab-df-convert:hover {\n",
              "      background-color: #434B5C;\n",
              "      box-shadow: 0px 1px 3px 1px rgba(0, 0, 0, 0.15);\n",
              "      filter: drop-shadow(0px 1px 2px rgba(0, 0, 0, 0.3));\n",
              "      fill: #FFFFFF;\n",
              "    }\n",
              "  </style>\n",
              "\n",
              "    <script>\n",
              "      const buttonEl =\n",
              "        document.querySelector('#df-a244c4ee-929d-4953-8222-3ded7e105010 button.colab-df-convert');\n",
              "      buttonEl.style.display =\n",
              "        google.colab.kernel.accessAllowed ? 'block' : 'none';\n",
              "\n",
              "      async function convertToInteractive(key) {\n",
              "        const element = document.querySelector('#df-a244c4ee-929d-4953-8222-3ded7e105010');\n",
              "        const dataTable =\n",
              "          await google.colab.kernel.invokeFunction('convertToInteractive',\n",
              "                                                    [key], {});\n",
              "        if (!dataTable) return;\n",
              "\n",
              "        const docLinkHtml = 'Like what you see? Visit the ' +\n",
              "          '<a target=\"_blank\" href=https://colab.research.google.com/notebooks/data_table.ipynb>data table notebook</a>'\n",
              "          + ' to learn more about interactive tables.';\n",
              "        element.innerHTML = '';\n",
              "        dataTable['output_type'] = 'display_data';\n",
              "        await google.colab.output.renderOutput(dataTable, element);\n",
              "        const docLink = document.createElement('div');\n",
              "        docLink.innerHTML = docLinkHtml;\n",
              "        element.appendChild(docLink);\n",
              "      }\n",
              "    </script>\n",
              "  </div>\n",
              "\n",
              "\n",
              "    <div id=\"df-d93dc5f6-e90b-4fd4-9bcf-dcf179f8eb7d\">\n",
              "      <button class=\"colab-df-quickchart\" onclick=\"quickchart('df-d93dc5f6-e90b-4fd4-9bcf-dcf179f8eb7d')\"\n",
              "                title=\"Suggest charts\"\n",
              "                style=\"display:none;\">\n",
              "\n",
              "<svg xmlns=\"http://www.w3.org/2000/svg\" height=\"24px\"viewBox=\"0 0 24 24\"\n",
              "     width=\"24px\">\n",
              "    <g>\n",
              "        <path d=\"M19 3H5c-1.1 0-2 .9-2 2v14c0 1.1.9 2 2 2h14c1.1 0 2-.9 2-2V5c0-1.1-.9-2-2-2zM9 17H7v-7h2v7zm4 0h-2V7h2v10zm4 0h-2v-4h2v4z\"/>\n",
              "    </g>\n",
              "</svg>\n",
              "      </button>\n",
              "\n",
              "<style>\n",
              "  .colab-df-quickchart {\n",
              "      --bg-color: #E8F0FE;\n",
              "      --fill-color: #1967D2;\n",
              "      --hover-bg-color: #E2EBFA;\n",
              "      --hover-fill-color: #174EA6;\n",
              "      --disabled-fill-color: #AAA;\n",
              "      --disabled-bg-color: #DDD;\n",
              "  }\n",
              "\n",
              "  [theme=dark] .colab-df-quickchart {\n",
              "      --bg-color: #3B4455;\n",
              "      --fill-color: #D2E3FC;\n",
              "      --hover-bg-color: #434B5C;\n",
              "      --hover-fill-color: #FFFFFF;\n",
              "      --disabled-bg-color: #3B4455;\n",
              "      --disabled-fill-color: #666;\n",
              "  }\n",
              "\n",
              "  .colab-df-quickchart {\n",
              "    background-color: var(--bg-color);\n",
              "    border: none;\n",
              "    border-radius: 50%;\n",
              "    cursor: pointer;\n",
              "    display: none;\n",
              "    fill: var(--fill-color);\n",
              "    height: 32px;\n",
              "    padding: 0;\n",
              "    width: 32px;\n",
              "  }\n",
              "\n",
              "  .colab-df-quickchart:hover {\n",
              "    background-color: var(--hover-bg-color);\n",
              "    box-shadow: 0 1px 2px rgba(60, 64, 67, 0.3), 0 1px 3px 1px rgba(60, 64, 67, 0.15);\n",
              "    fill: var(--button-hover-fill-color);\n",
              "  }\n",
              "\n",
              "  .colab-df-quickchart-complete:disabled,\n",
              "  .colab-df-quickchart-complete:disabled:hover {\n",
              "    background-color: var(--disabled-bg-color);\n",
              "    fill: var(--disabled-fill-color);\n",
              "    box-shadow: none;\n",
              "  }\n",
              "\n",
              "  .colab-df-spinner {\n",
              "    border: 2px solid var(--fill-color);\n",
              "    border-color: transparent;\n",
              "    border-bottom-color: var(--fill-color);\n",
              "    animation:\n",
              "      spin 1s steps(1) infinite;\n",
              "  }\n",
              "\n",
              "  @keyframes spin {\n",
              "    0% {\n",
              "      border-color: transparent;\n",
              "      border-bottom-color: var(--fill-color);\n",
              "      border-left-color: var(--fill-color);\n",
              "    }\n",
              "    20% {\n",
              "      border-color: transparent;\n",
              "      border-left-color: var(--fill-color);\n",
              "      border-top-color: var(--fill-color);\n",
              "    }\n",
              "    30% {\n",
              "      border-color: transparent;\n",
              "      border-left-color: var(--fill-color);\n",
              "      border-top-color: var(--fill-color);\n",
              "      border-right-color: var(--fill-color);\n",
              "    }\n",
              "    40% {\n",
              "      border-color: transparent;\n",
              "      border-right-color: var(--fill-color);\n",
              "      border-top-color: var(--fill-color);\n",
              "    }\n",
              "    60% {\n",
              "      border-color: transparent;\n",
              "      border-right-color: var(--fill-color);\n",
              "    }\n",
              "    80% {\n",
              "      border-color: transparent;\n",
              "      border-right-color: var(--fill-color);\n",
              "      border-bottom-color: var(--fill-color);\n",
              "    }\n",
              "    90% {\n",
              "      border-color: transparent;\n",
              "      border-bottom-color: var(--fill-color);\n",
              "    }\n",
              "  }\n",
              "</style>\n",
              "\n",
              "      <script>\n",
              "        async function quickchart(key) {\n",
              "          const quickchartButtonEl =\n",
              "            document.querySelector('#' + key + ' button');\n",
              "          quickchartButtonEl.disabled = true;  // To prevent multiple clicks.\n",
              "          quickchartButtonEl.classList.add('colab-df-spinner');\n",
              "          try {\n",
              "            const charts = await google.colab.kernel.invokeFunction(\n",
              "                'suggestCharts', [key], {});\n",
              "          } catch (error) {\n",
              "            console.error('Error during call to suggestCharts:', error);\n",
              "          }\n",
              "          quickchartButtonEl.classList.remove('colab-df-spinner');\n",
              "          quickchartButtonEl.classList.add('colab-df-quickchart-complete');\n",
              "        }\n",
              "        (() => {\n",
              "          let quickchartButtonEl =\n",
              "            document.querySelector('#df-d93dc5f6-e90b-4fd4-9bcf-dcf179f8eb7d button');\n",
              "          quickchartButtonEl.style.display =\n",
              "            google.colab.kernel.accessAllowed ? 'block' : 'none';\n",
              "        })();\n",
              "      </script>\n",
              "    </div>\n",
              "\n",
              "    </div>\n",
              "  </div>\n"
            ],
            "application/vnd.google.colaboratory.intrinsic+json": {
              "type": "dataframe",
              "summary": "{\n  \"name\": \"pd\",\n  \"rows\": 5,\n  \"fields\": [\n    {\n      \"column\": \"timestamp\",\n      \"properties\": {\n        \"dtype\": \"object\",\n        \"num_unique_values\": 5,\n        \"samples\": [\n          \"2025-01-01 00:01:00\",\n          \"2025-01-01 00:04:00\",\n          \"2025-01-01 00:02:00\"\n        ],\n        \"semantic_type\": \"\",\n        \"description\": \"\"\n      }\n    },\n    {\n      \"column\": \"usuario\",\n      \"properties\": {\n        \"dtype\": \"string\",\n        \"num_unique_values\": 3,\n        \"samples\": [\n          \"tyrell\",\n          \"fsociety_bot\",\n          \"angela\"\n        ],\n        \"semantic_type\": \"\",\n        \"description\": \"\"\n      }\n    },\n    {\n      \"column\": \"acao\",\n      \"properties\": {\n        \"dtype\": \"string\",\n        \"num_unique_values\": 3,\n        \"samples\": [\n          \"exfiltracao\",\n          \"phishing\",\n          \"ddos\"\n        ],\n        \"semantic_type\": \"\",\n        \"description\": \"\"\n      }\n    },\n    {\n      \"column\": \"sistema_alvo\",\n      \"properties\": {\n        \"dtype\": \"string\",\n        \"num_unique_values\": 3,\n        \"samples\": [\n          \"servidor_financeiro\",\n          \"rede_interna\",\n          \"cloud_storage\"\n        ],\n        \"semantic_type\": \"\",\n        \"description\": \"\"\n      }\n    },\n    {\n      \"column\": \"resultado\",\n      \"properties\": {\n        \"dtype\": \"category\",\n        \"num_unique_values\": 2,\n        \"samples\": [\n          \"falha\",\n          \"sucesso\"\n        ],\n        \"semantic_type\": \"\",\n        \"description\": \"\"\n      }\n    },\n    {\n      \"column\": \"impacto\",\n      \"properties\": {\n        \"dtype\": \"number\",\n        \"std\": 27,\n        \"min\": 8,\n        \"max\": 81,\n        \"num_unique_values\": 5,\n        \"samples\": [\n          81,\n          37\n        ],\n        \"semantic_type\": \"\",\n        \"description\": \"\"\n      }\n    }\n  ]\n}"
            }
          },
          "metadata": {},
          "execution_count": 10
        }
      ]
    },
    {
      "cell_type": "code",
      "source": [
        "df1 = iter(df)"
      ],
      "metadata": {
        "id": "ca9ENFUzhayK"
      },
      "execution_count": null,
      "outputs": []
    },
    {
      "cell_type": "code",
      "source": [
        "print(type(df1))"
      ],
      "metadata": {
        "colab": {
          "base_uri": "https://localhost:8080/"
        },
        "id": "gi0v700vhniD",
        "outputId": "b3de37a5-5426-446a-b9ac-aa58186df5a7"
      },
      "execution_count": null,
      "outputs": [
        {
          "output_type": "stream",
          "name": "stdout",
          "text": [
            "<class 'map'>\n"
          ]
        }
      ]
    },
    {
      "cell_type": "code",
      "source": [
        "ratings_memory = ratings_df.memory_usage().sum()"
      ],
      "metadata": {
        "id": "9gNMGbAjic6e"
      },
      "execution_count": null,
      "outputs": []
    },
    {
      "cell_type": "code",
      "source": [
        "print('Total Current memory is-', ratings_memory,'Bytes.')"
      ],
      "metadata": {
        "colab": {
          "base_uri": "https://localhost:8080/"
        },
        "id": "pKRRKueKinRK",
        "outputId": "c963c192-d4e5-4247-b171-34aeeda51ddf"
      },
      "execution_count": null,
      "outputs": [
        {
          "output_type": "stream",
          "name": "stdout",
          "text": [
            "Total Current memory is- 48000132 Bytes.\n"
          ]
        }
      ]
    },
    {
      "cell_type": "code",
      "source": [
        "ratings_df.memory_usage()"
      ],
      "metadata": {
        "colab": {
          "base_uri": "https://localhost:8080/",
          "height": 304
        },
        "id": "82XSpQ43i13-",
        "outputId": "a2001f88-548d-4184-c64f-812cebe13617"
      },
      "execution_count": null,
      "outputs": [
        {
          "output_type": "execute_result",
          "data": {
            "text/plain": [
              "Index               132\n",
              "timestamp       8000000\n",
              "usuario         8000000\n",
              "acao            8000000\n",
              "sistema_alvo    8000000\n",
              "resultado       8000000\n",
              "impacto         8000000\n",
              "dtype: int64"
            ],
            "text/html": [
              "<div>\n",
              "<style scoped>\n",
              "    .dataframe tbody tr th:only-of-type {\n",
              "        vertical-align: middle;\n",
              "    }\n",
              "\n",
              "    .dataframe tbody tr th {\n",
              "        vertical-align: top;\n",
              "    }\n",
              "\n",
              "    .dataframe thead th {\n",
              "        text-align: right;\n",
              "    }\n",
              "</style>\n",
              "<table border=\"1\" class=\"dataframe\">\n",
              "  <thead>\n",
              "    <tr style=\"text-align: right;\">\n",
              "      <th></th>\n",
              "      <th>0</th>\n",
              "    </tr>\n",
              "  </thead>\n",
              "  <tbody>\n",
              "    <tr>\n",
              "      <th>Index</th>\n",
              "      <td>132</td>\n",
              "    </tr>\n",
              "    <tr>\n",
              "      <th>timestamp</th>\n",
              "      <td>8000000</td>\n",
              "    </tr>\n",
              "    <tr>\n",
              "      <th>usuario</th>\n",
              "      <td>8000000</td>\n",
              "    </tr>\n",
              "    <tr>\n",
              "      <th>acao</th>\n",
              "      <td>8000000</td>\n",
              "    </tr>\n",
              "    <tr>\n",
              "      <th>sistema_alvo</th>\n",
              "      <td>8000000</td>\n",
              "    </tr>\n",
              "    <tr>\n",
              "      <th>resultado</th>\n",
              "      <td>8000000</td>\n",
              "    </tr>\n",
              "    <tr>\n",
              "      <th>impacto</th>\n",
              "      <td>8000000</td>\n",
              "    </tr>\n",
              "  </tbody>\n",
              "</table>\n",
              "</div><br><label><b>dtype:</b> int64</label>"
            ]
          },
          "metadata": {},
          "execution_count": 20
        }
      ]
    },
    {
      "cell_type": "code",
      "source": [
        "rate_keys = list(ratings_df['impacto'].unique())"
      ],
      "metadata": {
        "id": "uaISOnXhjLew"
      },
      "execution_count": null,
      "outputs": []
    },
    {
      "cell_type": "code",
      "source": [
        "rate_keys = sorted(rate_keys, reverse=True)\n",
        "\n",
        "print(rate_keys)"
      ],
      "metadata": {
        "colab": {
          "base_uri": "https://localhost:8080/"
        },
        "id": "2TJyFrXHjbeC",
        "outputId": "aaa45bd8-d6ed-4b74-9e2b-45efd8999331"
      },
      "execution_count": null,
      "outputs": [
        {
          "output_type": "stream",
          "name": "stdout",
          "text": [
            "[np.int64(100), np.int64(99), np.int64(98), np.int64(97), np.int64(96), np.int64(95), np.int64(94), np.int64(93), np.int64(92), np.int64(91), np.int64(90), np.int64(89), np.int64(88), np.int64(87), np.int64(86), np.int64(85), np.int64(84), np.int64(83), np.int64(82), np.int64(81), np.int64(80), np.int64(79), np.int64(78), np.int64(77), np.int64(76), np.int64(75), np.int64(74), np.int64(73), np.int64(72), np.int64(71), np.int64(70), np.int64(69), np.int64(68), np.int64(67), np.int64(66), np.int64(65), np.int64(64), np.int64(63), np.int64(62), np.int64(61), np.int64(60), np.int64(59), np.int64(58), np.int64(57), np.int64(56), np.int64(55), np.int64(54), np.int64(53), np.int64(52), np.int64(51), np.int64(50), np.int64(49), np.int64(48), np.int64(47), np.int64(46), np.int64(45), np.int64(44), np.int64(43), np.int64(42), np.int64(41), np.int64(40), np.int64(39), np.int64(38), np.int64(37), np.int64(36), np.int64(35), np.int64(34), np.int64(33), np.int64(32), np.int64(31), np.int64(30), np.int64(29), np.int64(28), np.int64(27), np.int64(26), np.int64(25), np.int64(24), np.int64(23), np.int64(22), np.int64(21), np.int64(20), np.int64(19), np.int64(18), np.int64(17), np.int64(16), np.int64(15), np.int64(14), np.int64(13), np.int64(12), np.int64(11), np.int64(10), np.int64(9), np.int64(8), np.int64(7), np.int64(6), np.int64(5), np.int64(4), np.int64(3), np.int64(2), np.int64(1), np.int64(0)]\n"
          ]
        }
      ]
    },
    {
      "cell_type": "code",
      "source": [
        "ratings_dict = {}\n",
        "for i in rate_keys: ratings_dict[i] = 0\n",
        "\n",
        "ratings_dict\n"
      ],
      "metadata": {
        "colab": {
          "base_uri": "https://localhost:8080/"
        },
        "id": "aNQOyF-3j-0A",
        "outputId": "419032a7-ede0-4aed-b780-9ce33502f4c1"
      },
      "execution_count": null,
      "outputs": [
        {
          "output_type": "execute_result",
          "data": {
            "text/plain": [
              "{np.int64(100): 0,\n",
              " np.int64(99): 0,\n",
              " np.int64(98): 0,\n",
              " np.int64(97): 0,\n",
              " np.int64(96): 0,\n",
              " np.int64(95): 0,\n",
              " np.int64(94): 0,\n",
              " np.int64(93): 0,\n",
              " np.int64(92): 0,\n",
              " np.int64(91): 0,\n",
              " np.int64(90): 0,\n",
              " np.int64(89): 0,\n",
              " np.int64(88): 0,\n",
              " np.int64(87): 0,\n",
              " np.int64(86): 0,\n",
              " np.int64(85): 0,\n",
              " np.int64(84): 0,\n",
              " np.int64(83): 0,\n",
              " np.int64(82): 0,\n",
              " np.int64(81): 0,\n",
              " np.int64(80): 0,\n",
              " np.int64(79): 0,\n",
              " np.int64(78): 0,\n",
              " np.int64(77): 0,\n",
              " np.int64(76): 0,\n",
              " np.int64(75): 0,\n",
              " np.int64(74): 0,\n",
              " np.int64(73): 0,\n",
              " np.int64(72): 0,\n",
              " np.int64(71): 0,\n",
              " np.int64(70): 0,\n",
              " np.int64(69): 0,\n",
              " np.int64(68): 0,\n",
              " np.int64(67): 0,\n",
              " np.int64(66): 0,\n",
              " np.int64(65): 0,\n",
              " np.int64(64): 0,\n",
              " np.int64(63): 0,\n",
              " np.int64(62): 0,\n",
              " np.int64(61): 0,\n",
              " np.int64(60): 0,\n",
              " np.int64(59): 0,\n",
              " np.int64(58): 0,\n",
              " np.int64(57): 0,\n",
              " np.int64(56): 0,\n",
              " np.int64(55): 0,\n",
              " np.int64(54): 0,\n",
              " np.int64(53): 0,\n",
              " np.int64(52): 0,\n",
              " np.int64(51): 0,\n",
              " np.int64(50): 0,\n",
              " np.int64(49): 0,\n",
              " np.int64(48): 0,\n",
              " np.int64(47): 0,\n",
              " np.int64(46): 0,\n",
              " np.int64(45): 0,\n",
              " np.int64(44): 0,\n",
              " np.int64(43): 0,\n",
              " np.int64(42): 0,\n",
              " np.int64(41): 0,\n",
              " np.int64(40): 0,\n",
              " np.int64(39): 0,\n",
              " np.int64(38): 0,\n",
              " np.int64(37): 0,\n",
              " np.int64(36): 0,\n",
              " np.int64(35): 0,\n",
              " np.int64(34): 0,\n",
              " np.int64(33): 0,\n",
              " np.int64(32): 0,\n",
              " np.int64(31): 0,\n",
              " np.int64(30): 0,\n",
              " np.int64(29): 0,\n",
              " np.int64(28): 0,\n",
              " np.int64(27): 0,\n",
              " np.int64(26): 0,\n",
              " np.int64(25): 0,\n",
              " np.int64(24): 0,\n",
              " np.int64(23): 0,\n",
              " np.int64(22): 0,\n",
              " np.int64(21): 0,\n",
              " np.int64(20): 0,\n",
              " np.int64(19): 0,\n",
              " np.int64(18): 0,\n",
              " np.int64(17): 0,\n",
              " np.int64(16): 0,\n",
              " np.int64(15): 0,\n",
              " np.int64(14): 0,\n",
              " np.int64(13): 0,\n",
              " np.int64(12): 0,\n",
              " np.int64(11): 0,\n",
              " np.int64(10): 0,\n",
              " np.int64(9): 0,\n",
              " np.int64(8): 0,\n",
              " np.int64(7): 0,\n",
              " np.int64(6): 0,\n",
              " np.int64(5): 0,\n",
              " np.int64(4): 0,\n",
              " np.int64(3): 0,\n",
              " np.int64(2): 0,\n",
              " np.int64(1): 0,\n",
              " np.int64(0): 0}"
            ]
          },
          "metadata": {},
          "execution_count": 26
        }
      ]
    },
    {
      "cell_type": "code",
      "source": [
        "reader = pd.read_csv(’/mr_robot_events.csv’, chunksize=100)"
      ],
      "metadata": {
        "colab": {
          "base_uri": "https://localhost:8080/",
          "height": 106
        },
        "id": "r-1-dcsbkmPv",
        "outputId": "4ef73732-e0cd-4c47-c4c1-8dc58e3ae8a3"
      },
      "execution_count": null,
      "outputs": [
        {
          "output_type": "error",
          "ename": "SyntaxError",
          "evalue": "invalid character '’' (U+2019) (ipython-input-4114714098.py, line 1)",
          "traceback": [
            "\u001b[0;36m  File \u001b[0;32m\"/tmp/ipython-input-4114714098.py\"\u001b[0;36m, line \u001b[0;32m1\u001b[0m\n\u001b[0;31m    reader = pd.read_csv(’/mr_robot_events.csv’, chunksize=100)\u001b[0m\n\u001b[0m                         ^\u001b[0m\n\u001b[0;31mSyntaxError\u001b[0m\u001b[0;31m:\u001b[0m invalid character '’' (U+2019)\n"
          ]
        }
      ]
    },
    {
      "cell_type": "code",
      "source": [
        "--https://towardsai.net/p/data-science/efficient-pandas-using-chunksize-for-large-data-sets-c66bf3037f93"
      ],
      "metadata": {
        "colab": {
          "base_uri": "https://localhost:8080/",
          "height": 106
        },
        "id": "pheGK65ZkEHE",
        "outputId": "e5ca2b28-3c5f-4153-9c03-b8c137b1c6ed"
      },
      "execution_count": null,
      "outputs": [
        {
          "output_type": "error",
          "ename": "SyntaxError",
          "evalue": "invalid syntax (ipython-input-3895942086.py, line 1)",
          "traceback": [
            "\u001b[0;36m  File \u001b[0;32m\"/tmp/ipython-input-3895942086.py\"\u001b[0;36m, line \u001b[0;32m1\u001b[0m\n\u001b[0;31m    --https://towardsai.net/p/data-science/efficient-pandas-using-chunksize-for-large-data-sets-c66bf3037f93\u001b[0m\n\u001b[0m           ^\u001b[0m\n\u001b[0;31mSyntaxError\u001b[0m\u001b[0;31m:\u001b[0m invalid syntax\n"
          ]
        }
      ]
    }
  ]
}