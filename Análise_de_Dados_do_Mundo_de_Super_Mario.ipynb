{
  "nbformat": 4,
  "nbformat_minor": 0,
  "metadata": {
    "colab": {
      "provenance": [],
      "toc_visible": true
    },
    "kernelspec": {
      "name": "python3",
      "display_name": "Python 3"
    },
    "language_info": {
      "name": "python"
    }
  },
  "cells": [
    {
      "cell_type": "code",
      "execution_count": 179,
      "metadata": {
        "id": "Fdl4DHXbh4lG",
        "colab": {
          "base_uri": "https://localhost:8080/"
        },
        "outputId": "7b800ec1-14ac-425b-cac1-4c7b68d5ea81"
      },
      "outputs": [
        {
          "output_type": "stream",
          "name": "stdout",
          "text": [
            "Requirement already satisfied: pyspark in /usr/local/lib/python3.12/dist-packages (3.5.1)\n",
            "Requirement already satisfied: py4j==0.10.9.7 in /usr/local/lib/python3.12/dist-packages (from pyspark) (0.10.9.7)\n"
          ]
        }
      ],
      "source": [
        "!pip install pyspark"
      ]
    },
    {
      "cell_type": "code",
      "source": [
        "from pyspark.sql import SparkSession\n",
        "from pyspark.sql.functions import col"
      ],
      "metadata": {
        "id": "53bH9LY8Ci1E"
      },
      "execution_count": 180,
      "outputs": []
    },
    {
      "cell_type": "code",
      "source": [
        "spark = SparkSession.builder.appName(\"Exemplo_Mario\").getOrCreate()"
      ],
      "metadata": {
        "id": "-c2v4noaCl4X"
      },
      "execution_count": 181,
      "outputs": []
    },
    {
      "cell_type": "code",
      "source": [
        "import pandas as pd"
      ],
      "metadata": {
        "id": "U5x0cGsBIoGr"
      },
      "execution_count": 182,
      "outputs": []
    },
    {
      "cell_type": "code",
      "source": [
        "df = spark.read.csv(\"/content/super_mario_dataset.csv\", header=True, inferSchema=True)"
      ],
      "metadata": {
        "id": "h2mu6mqQCqhd"
      },
      "execution_count": 195,
      "outputs": []
    },
    {
      "cell_type": "code",
      "source": [
        "df.count()\n",
        "#df.show()"
      ],
      "metadata": {
        "colab": {
          "base_uri": "https://localhost:8080/"
        },
        "id": "Dqw4rq80DAHC",
        "outputId": "0a86d071-9086-4552-87d6-3d517bbc099b"
      },
      "execution_count": 184,
      "outputs": [
        {
          "output_type": "execute_result",
          "data": {
            "text/plain": [
              "3000"
            ]
          },
          "metadata": {},
          "execution_count": 184
        }
      ]
    },
    {
      "cell_type": "code",
      "source": [
        "#1. Carga e pré-processamento (PySpark)"
      ],
      "metadata": {
        "id": "eFLjcDleFZ3Y"
      },
      "execution_count": 185,
      "outputs": []
    },
    {
      "cell_type": "code",
      "source": [
        "df.describe()\n",
        "#df.show()"
      ],
      "metadata": {
        "colab": {
          "base_uri": "https://localhost:8080/"
        },
        "id": "cgY-g_oYDJAV",
        "outputId": "b69c5e7b-1a6d-4309-ae4a-82675d589f8a"
      },
      "execution_count": 186,
      "outputs": [
        {
          "output_type": "execute_result",
          "data": {
            "text/plain": [
              "DataFrame[summary: string, player_id: string, world: string, level: string, lives_left: string, coins_collected: string, powerups_used: string, time_seconds: string, enemies_defeated: string, score: string]"
            ]
          },
          "metadata": {},
          "execution_count": 186
        }
      ]
    },
    {
      "cell_type": "code",
      "source": [
        "df.na.drop().show()\n",
        "#como salvar a tabela?\n",
        "#df.show()\n",
        "\n"
      ],
      "metadata": {
        "colab": {
          "base_uri": "https://localhost:8080/"
        },
        "id": "T_sUCe5hDQFs",
        "outputId": "b3b613ee-656b-478c-8f8a-1f5edf8ae348"
      },
      "execution_count": 187,
      "outputs": [
        {
          "output_type": "stream",
          "name": "stdout",
          "text": [
            "+---------+-----+-----+----------+---------------+-------------+------------+----------------+------+----------+\n",
            "|player_id|world|level|lives_left|coins_collected|powerups_used|time_seconds|enemies_defeated| score|      date|\n",
            "+---------+-----+-----+----------+---------------+-------------+------------+----------------+------+----------+\n",
            "| player_7|    7|    1|       4.0|           60.0|          1.0|       305.0|            32.0|9786.0|2025-09-16|\n",
            "| player_4|    1|    1|       1.0|           37.0|          2.0|       418.0|            18.0|6372.0|2025-09-24|\n",
            "| player_5|    6|    1|       2.0|           54.0|          5.0|       371.0|            42.0|5316.0|2025-09-20|\n",
            "| player_7|    3|    1|       1.0|            0.0|          3.0|       333.0|            36.0|8465.0|2025-09-19|\n",
            "|player_10|    4|    2|       2.0|          100.0|          4.0|       403.0|            18.0| 589.0|2025-09-18|\n",
            "| player_7|    6|    4|       2.0|           44.0|          4.0|        35.0|            23.0|5063.0|2025-10-05|\n",
            "|player_11|    2|    4|       5.0|           97.0|          3.0|       308.0|            33.0|3633.0|2025-09-17|\n",
            "| player_5|    5|    2|       4.0|           25.0|          5.0|       332.0|             9.0|1258.0|2025-10-04|\n",
            "| player_4|    6|    1|       2.0|           13.0|          0.0|       585.0|             1.0|2866.0|2025-09-28|\n",
            "| player_8|    8|    2|       2.0|           70.0|          2.0|       183.0|            32.0| 571.0|2025-10-07|\n",
            "| player_6|    1|    2|       2.0|           30.0|          4.0|       555.0|            42.0|4222.0|2025-09-11|\n",
            "| player_5|    4|    2|       5.0|           87.0|          4.0|       209.0|            27.0| 637.0|2025-09-16|\n",
            "| player_8|    1|    4|       5.0|           94.0|          5.0|       197.0|            44.0|4882.0|2025-10-01|\n",
            "| player_1|    4|    3|       0.0|           57.0|          5.0|        89.0|             9.0|5643.0|2025-09-14|\n",
            "|player_12|    5|    4|       3.0|           23.0|          0.0|       295.0|            11.0| 159.0|2025-09-28|\n",
            "| player_6|    4|    3|       2.0|           90.0|          0.0|        60.0|            20.0|5938.0|2025-09-25|\n",
            "|player_12|    4|    3|       5.0|           58.0|          0.0|       318.0|             0.0| 580.0|2025-10-09|\n",
            "| player_1|    4|    3|       2.0|           81.0|          3.0|       527.0|             4.0|7586.0|2025-09-17|\n",
            "|player_11|    3|    4|       5.0|           17.0|          4.0|       503.0|            24.0|4474.0|2025-10-08|\n",
            "|player_11|    8|    4|       3.0|           36.0|          5.0|       434.0|            48.0|9941.0|2025-09-09|\n",
            "+---------+-----+-----+----------+---------------+-------------+------------+----------------+------+----------+\n",
            "only showing top 20 rows\n",
            "\n"
          ]
        }
      ]
    },
    {
      "cell_type": "code",
      "source": [
        "#2. Sumarização e agregações (Usando PySpark)\n"
      ],
      "metadata": {
        "id": "TgjykCAWFmd8"
      },
      "execution_count": 188,
      "outputs": []
    },
    {
      "cell_type": "code",
      "source": [
        "#Pontuação média por mundo.\n",
        "#df = pd.read_csv(\"/content/super_mario_dataset.csv\")\n",
        "#df = spark.read.csv(\"/content/super_mario_dataset.csv\", header=True, inferSchema=True)\n",
        "df = pd.read_csv(\"/content/super_mario_dataset.csv\")\n",
        "#----\n",
        "media_mundo = df.groupby(\"world\")[\"score\"].mean()\n",
        "print(\"Pontuação média por mundo.\")\n",
        "print(media_mundo)\n",
        "\n",
        "#---\n",
        "\n",
        "media_conclusao = df.groupby(\"world\")[\"time_seconds\"].mean()\n",
        "print(media_conclusao)\n",
        "\n",
        "#---\n",
        "\n",
        "media_level = df.groupby(\"level\")[\"time_seconds\"].mean()\n",
        "print(media_level)\n",
        "\n"
      ],
      "metadata": {
        "colab": {
          "base_uri": "https://localhost:8080/"
        },
        "id": "k_aSTQ1eHSzd",
        "outputId": "0919e2bf-f075-4e53-876e-87286e1a9422"
      },
      "execution_count": 197,
      "outputs": [
        {
          "output_type": "stream",
          "name": "stdout",
          "text": [
            "Pontuação média por mundo.\n",
            "world\n",
            "1    5051.817949\n",
            "2    5218.846821\n",
            "3    5035.151194\n",
            "4    4933.936430\n",
            "5    4774.147668\n",
            "6    4973.518519\n",
            "7    4846.551724\n",
            "8    4844.303279\n",
            "Name: score, dtype: float64\n",
            "world\n",
            "1    318.308483\n",
            "2    318.476744\n",
            "3    308.291777\n",
            "4    302.941320\n",
            "5    316.696891\n",
            "6    322.968170\n",
            "7    316.740634\n",
            "8    301.536986\n",
            "Name: time_seconds, dtype: float64\n",
            "level\n",
            "1    319.798906\n",
            "2    313.854817\n",
            "3    307.027097\n",
            "4    312.185087\n",
            "Name: time_seconds, dtype: float64\n"
          ]
        }
      ]
    },
    {
      "cell_type": "code",
      "source": [
        "df = spark.read.csv(\"/content/super_mario_dataset.csv\", header=True, inferSchema=True)"
      ],
      "metadata": {
        "id": "LqEt6dZ5S2mS"
      },
      "execution_count": 199,
      "outputs": []
    },
    {
      "cell_type": "code",
      "source": [
        "#df.show()"
      ],
      "metadata": {
        "id": "zYFdnivNSwxD"
      },
      "execution_count": 201,
      "outputs": []
    },
    {
      "cell_type": "code",
      "source": [
        "#Top 5 jogadores com maior pontuação média.\n",
        "\n",
        "df.orderBy(col(\"score\").desc()).show(5)"
      ],
      "metadata": {
        "colab": {
          "base_uri": "https://localhost:8080/"
        },
        "id": "kdZLlwOdTS2B",
        "outputId": "bad91047-e9b2-42e7-e8bf-b2f68d7aa966"
      },
      "execution_count": 202,
      "outputs": [
        {
          "output_type": "stream",
          "name": "stdout",
          "text": [
            "+---------+-----+-----+----------+---------------+-------------+------------+----------------+------+----------+\n",
            "|player_id|world|level|lives_left|coins_collected|powerups_used|time_seconds|enemies_defeated| score|      date|\n",
            "+---------+-----+-----+----------+---------------+-------------+------------+----------------+------+----------+\n",
            "|player_11|    5|    4|       0.0|           32.0|         NULL|        97.0|            14.0|9999.0|2025-09-16|\n",
            "| player_7|    1|    3|       0.0|           52.0|          5.0|        66.0|            36.0|9995.0|2025-09-18|\n",
            "| player_1|    1|    3|       4.0|           50.0|          1.0|        68.0|            18.0|9991.0|2025-09-27|\n",
            "| player_1|    4|    3|       1.0|           89.0|          0.0|       307.0|            12.0|9989.0|2025-09-12|\n",
            "| player_3|    4|    1|       1.0|           62.0|          2.0|       389.0|            26.0|9989.0|2025-09-24|\n",
            "+---------+-----+-----+----------+---------------+-------------+------------+----------------+------+----------+\n",
            "only showing top 5 rows\n",
            "\n"
          ]
        }
      ]
    },
    {
      "cell_type": "code",
      "source": [
        "#Contagem de partidas por data.\n",
        "#df.show()\n",
        "df.groupBy(\"date\").count().show()"
      ],
      "metadata": {
        "colab": {
          "base_uri": "https://localhost:8080/"
        },
        "id": "ahGYlj7UTgcB",
        "outputId": "7a4cc9f8-cb5c-432b-d9f4-a67e0fd83028"
      },
      "execution_count": 222,
      "outputs": [
        {
          "output_type": "stream",
          "name": "stdout",
          "text": [
            "+----------+-----+\n",
            "|      date|count|\n",
            "+----------+-----+\n",
            "|2025-09-23|   89|\n",
            "|2025-09-25|   95|\n",
            "|2025-09-10|  100|\n",
            "|2025-09-11|   84|\n",
            "|2025-09-16|  112|\n",
            "|2025-09-18|  103|\n",
            "|2025-09-13|  105|\n",
            "|2025-09-09|  105|\n",
            "|2025-10-01|  112|\n",
            "|2025-09-27|   78|\n",
            "|2025-10-04|  102|\n",
            "|2025-09-21|   98|\n",
            "|2025-10-03|   89|\n",
            "|2025-09-24|   96|\n",
            "|2025-10-07|   96|\n",
            "|2025-10-06|  112|\n",
            "|2025-09-15|  104|\n",
            "|2025-09-14|  102|\n",
            "|2025-10-09|   87|\n",
            "|2025-09-26|   93|\n",
            "+----------+-----+\n",
            "only showing top 20 rows\n",
            "\n"
          ]
        }
      ]
    },
    {
      "cell_type": "code",
      "source": [
        "#3. Conversão e persistência\n",
        "#Converter todas as agregações para pandas e salvar cada uma em um\n",
        "#arquivo Parquet diferente.\n"
      ],
      "metadata": {
        "id": "3RRWk1LkVEmF"
      },
      "execution_count": null,
      "outputs": []
    }
  ]
}