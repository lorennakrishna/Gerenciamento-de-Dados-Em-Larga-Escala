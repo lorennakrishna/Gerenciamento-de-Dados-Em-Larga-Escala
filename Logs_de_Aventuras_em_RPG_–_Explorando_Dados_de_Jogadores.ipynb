{
  "nbformat": 4,
  "nbformat_minor": 0,
  "metadata": {
    "colab": {
      "provenance": []
    },
    "kernelspec": {
      "name": "python3",
      "display_name": "Python 3"
    },
    "language_info": {
      "name": "python"
    }
  },
  "cells": [
    {
      "cell_type": "code",
      "execution_count": null,
      "metadata": {
        "id": "pkbD85RyaiKF"
      },
      "outputs": [],
      "source": [
        "# 1. Contando ações em blocos\n",
        "\n",
        "chunksize = 100_000  # número de linhas por bloco\n",
        "acao_counts = {}"
      ]
    },
    {
      "cell_type": "code",
      "source": [
        "import pandas as pd\n",
        "# Ler o CSV em pedaços para não sobrecarregar a memória\n",
        "for bloco in pd.read_csv(\"/content/rpg_logs.csv\", chunksize=chunksize):\n",
        "    contagem = bloco[\"acao\"].value_counts()\n",
        "    for acao, qtd in contagem.items():\n",
        "        acao_counts[acao] = acao_counts.get(acao, 0) + qtd\n",
        "\n",
        "print(\"Contagem de eventos por ação: \")\n",
        "for acao, total in acao_counts.items():\n",
        "    print(f\"{acao}: {total}\")"
      ],
      "metadata": {
        "colab": {
          "base_uri": "https://localhost:8080/"
        },
        "id": "xL7YXOF2baEX",
        "outputId": "397ccffe-2f19-4183-f611-73f83dcc1818"
      },
      "execution_count": null,
      "outputs": [
        {
          "output_type": "stream",
          "name": "stdout",
          "text": [
            "Contagem de eventos por ação: \n",
            "defender: 200645\n",
            "coletar: 200166\n",
            "usar_habilidade: 199386\n",
            "craftar: 200196\n",
            "atacar: 199607\n"
          ]
        }
      ]
    },
    {
      "cell_type": "code",
      "source": [
        "# 2. Agregações completas\n",
        "\n",
        "# lendo tudo de uma vez para facilitar agregações, mas daria para fazer com chunks\n",
        "df = pd.read_csv(\"/content/rpg_logs.csv\")\n",
        "\n",
        "# média de impacto por usuário\n",
        "media_dano = df.groupby(\"jogador\")[\"dano\"].mean()\n",
        "print(\"Média de dano por jogador:\")\n",
        "print(media_dano)\n",
        "\n",
        "\n",
        "# contagem de eventos por inimigo\n",
        "contagem_sistema = df.groupby(\"inimigo\")[\"acao\"].count()\n",
        "print(\"\\nContagem de eventos por inimigo:\")\n",
        "print(contagem_sistema)"
      ],
      "metadata": {
        "colab": {
          "base_uri": "https://localhost:8080/"
        },
        "id": "yK1eItfbc2E3",
        "outputId": "dde00121-b6ca-4fe3-cbcb-ae21dd40d77f"
      },
      "execution_count": null,
      "outputs": [
        {
          "output_type": "stream",
          "name": "stdout",
          "text": [
            "Média de dano por jogador:\n",
            "jogador\n",
            "Archer     49.905871\n",
            "Cleric     49.982882\n",
            "Mage       49.937496\n",
            "Rogue      50.039030\n",
            "Warrior    50.125609\n",
            "Name: dano, dtype: float64\n",
            "\n",
            "Contagem de eventos por inimigo:\n",
            "inimigo\n",
            "Dragao        200171\n",
            "Goblin        199635\n",
            "Necromante    199990\n",
            "Orc           200148\n",
            "Troll         200056\n",
            "Name: acao, dtype: int64\n"
          ]
        }
      ]
    },
    {
      "cell_type": "code",
      "source": [
        "#Calcular a taxa de sucesso média por tipo de ação (acao).\n",
        "contagem_sucesso = df.groupby(\"sucesso\")[\"acao\"].count()\n",
        "print(\"\\nContagem de sucesso por sistema acao:\")\n",
        "print(contagem_sucesso)"
      ],
      "metadata": {
        "colab": {
          "base_uri": "https://localhost:8080/"
        },
        "id": "aSw8bTIMgQuk",
        "outputId": "c25d13e4-3f24-4618-8576-7309251b30f7"
      },
      "execution_count": null,
      "outputs": [
        {
          "output_type": "stream",
          "name": "stdout",
          "text": [
            "\n",
            "Contagem de sucesso por sistema acao:\n",
            "sucesso\n",
            "0    499413\n",
            "1    500587\n",
            "Name: acao, dtype: int64\n"
          ]
        }
      ]
    },
    {
      "cell_type": "code",
      "source": [
        "#Filtrar apenas eventos bem-sucedidos (sucesso = 1)\n",
        "\n",
        "df = df[df['sucesso'] > 0]\n",
        "\n",
        "#refazer as agregações.\n",
        "\n",
        "# média de impacto por usuário\n",
        "media_dano = df.groupby(\"jogador\")[\"dano\"].mean()\n",
        "print(\"Média de dano por jogador:\")\n",
        "print(media_dano)\n",
        "\n",
        "# contagem de eventos por inimigo\n",
        "contagem_sistema = df.groupby(\"inimigo\")[\"acao\"].count()\n",
        "print(\"\\nContagem de eventos por inimigo:\")\n",
        "print(contagem_sistema)\n",
        "\n",
        "\n"
      ],
      "metadata": {
        "colab": {
          "base_uri": "https://localhost:8080/"
        },
        "id": "PHzTmEVkknnu",
        "outputId": "06b5a9c4-64bb-4882-8757-4bc57c9c7004"
      },
      "execution_count": null,
      "outputs": [
        {
          "output_type": "stream",
          "name": "stdout",
          "text": [
            "Média de dano por jogador:\n",
            "jogador\n",
            "Archer     49.885393\n",
            "Cleric     50.085510\n",
            "Mage       49.988087\n",
            "Rogue      50.128884\n",
            "Warrior    50.031286\n",
            "Name: dano, dtype: float64\n",
            "\n",
            "Contagem de eventos por inimigo:\n",
            "inimigo\n",
            "Dragao         99810\n",
            "Goblin         99930\n",
            "Necromante    100184\n",
            "Orc           100203\n",
            "Troll         100460\n",
            "Name: acao, dtype: int64\n",
            "\n",
            "Contagem de eventos por inimigo:\n",
            "inimigo\n",
            "Dragao         99810\n",
            "Goblin         99930\n",
            "Necromante    100184\n",
            "Orc           100203\n",
            "Troll         100460\n",
            "Name: acao, dtype: int64\n"
          ]
        }
      ]
    },
    {
      "cell_type": "code",
      "source": [
        "#Filtrar ataques com dano ≥ 70 e analisar quais jogadores ou inimigos mais aparecem.\n",
        "\n",
        "df = df[df['dano'] >= 70]\n",
        "\n",
        "#Jogadores\n",
        "contagem_analise_jogador = df.groupby(\"jogador\")[\"dano\"].count()\n",
        "print(\"\\nContagem jogadores\")\n",
        "print(contagem_analise_jogador)\n",
        "\n",
        "#Inimigos\n",
        "contagem_analise_inimigo = df.groupby(\"inimigo\")[\"dano\"].count()\n",
        "print(\"\\nContagem inimigos\")\n",
        "print(contagem_analise_inimigo)"
      ],
      "metadata": {
        "colab": {
          "base_uri": "https://localhost:8080/"
        },
        "id": "txIB-tR7l-F9",
        "outputId": "dc90a3f9-8912-4eaf-ab5d-2a4fe8a1a602"
      },
      "execution_count": null,
      "outputs": [
        {
          "output_type": "stream",
          "name": "stdout",
          "text": [
            "\n",
            "Contagem jogadores\n",
            "jogador\n",
            "Archer     30573\n",
            "Cleric     30705\n",
            "Mage       30742\n",
            "Rogue      30751\n",
            "Warrior    30829\n",
            "Name: dano, dtype: int64\n",
            "\n",
            "Contagem inimigos\n",
            "inimigo\n",
            "Dragao        30388\n",
            "Goblin        30641\n",
            "Necromante    30895\n",
            "Orc           30705\n",
            "Troll         30971\n",
            "Name: dano, dtype: int64\n"
          ]
        }
      ]
    },
    {
      "cell_type": "code",
      "source": [],
      "metadata": {
        "id": "VIC0SHDfmCdL"
      },
      "execution_count": null,
      "outputs": []
    }
  ]
}