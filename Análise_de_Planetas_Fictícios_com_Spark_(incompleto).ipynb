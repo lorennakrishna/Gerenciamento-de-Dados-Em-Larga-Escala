{
  "nbformat": 4,
  "nbformat_minor": 0,
  "metadata": {
    "colab": {
      "provenance": []
    },
    "kernelspec": {
      "name": "python3",
      "display_name": "Python 3"
    },
    "language_info": {
      "name": "python"
    }
  },
  "cells": [
    {
      "cell_type": "code",
      "execution_count": null,
      "metadata": {
        "colab": {
          "base_uri": "https://localhost:8080/"
        },
        "id": "t5n5CyAAWD0y",
        "outputId": "2a5357fb-610c-428c-c685-a68754f1d737"
      },
      "outputs": [
        {
          "output_type": "stream",
          "name": "stdout",
          "text": [
            "Requirement already satisfied: pyspark in /usr/local/lib/python3.12/dist-packages (3.5.1)\n",
            "Requirement already satisfied: py4j==0.10.9.7 in /usr/local/lib/python3.12/dist-packages (from pyspark) (0.10.9.7)\n"
          ]
        }
      ],
      "source": [
        "!pip install pyspark"
      ]
    },
    {
      "cell_type": "code",
      "source": [
        "from pyspark.sql import SparkSession\n",
        "from pyspark.sql.functions import col"
      ],
      "metadata": {
        "id": "dnd0DfptWZ7Y"
      },
      "execution_count": null,
      "outputs": []
    },
    {
      "cell_type": "code",
      "source": [
        "spark = SparkSession.builder.appName(\"Exemplo\").getOrCreate()"
      ],
      "metadata": {
        "id": "kSaO-0g2Wb4_"
      },
      "execution_count": null,
      "outputs": []
    },
    {
      "cell_type": "code",
      "source": [
        "df = spark.read.csv(\"/content/planetas_ficticios.csv\", header=True, inferSchema=True)"
      ],
      "metadata": {
        "id": "CA-zZrSaWiyN"
      },
      "execution_count": null,
      "outputs": []
    },
    {
      "cell_type": "code",
      "source": [
        "#1. Qual é a média da população dos planetas?\n",
        "#verificar media geral\n",
        "\n",
        "df.groupBy(\"nome_planeta\").avg(\"populacao\").show()"
      ],
      "metadata": {
        "colab": {
          "base_uri": "https://localhost:8080/"
        },
        "id": "kJDBLcP2Wrhx",
        "outputId": "f1f51491-78c6-4632-f98d-0359a5ddba4b"
      },
      "execution_count": null,
      "outputs": [
        {
          "output_type": "stream",
          "name": "stdout",
          "text": [
            "+------------+--------------+\n",
            "|nome_planeta|avg(populacao)|\n",
            "+------------+--------------+\n",
            "| Planeta_577|      927319.5|\n",
            "| Planeta_758|     3832958.0|\n",
            "| Planeta_401|     1284298.5|\n",
            "|   Planeta_5|     4304279.0|\n",
            "| Planeta_579|       54704.0|\n",
            "| Planeta_742|     3743234.0|\n",
            "| Planeta_118|     4668984.5|\n",
            "| Planeta_407|     1735161.0|\n",
            "| Planeta_275|     2059417.0|\n",
            "|  Planeta_27|     1146212.0|\n",
            "|  Planeta_30|     2870897.0|\n",
            "| Planeta_271|     1120449.0|\n",
            "| Planeta_564|     2529785.0|\n",
            "| Planeta_882|      727669.0|\n",
            "| Planeta_411|     2096579.5|\n",
            "| Planeta_696|     2990774.0|\n",
            "| Planeta_346|     2862812.5|\n",
            "| Planeta_384|     4739796.0|\n",
            "| Planeta_939|     3449239.0|\n",
            "| Planeta_137|     1902096.0|\n",
            "+------------+--------------+\n",
            "only showing top 20 rows\n",
            "\n"
          ]
        }
      ]
    },
    {
      "cell_type": "code",
      "source": [
        "#2. Qual é o planeta com diâmetro máximo e mínimo?\n",
        "\n",
        "#maximo\n",
        "df.orderBy(col(\"diametro_km\").desc()).show(1)\n",
        "\n",
        "#minimo\n",
        "df.orderBy(col(\"diametro_km\").asc()).show(1)"
      ],
      "metadata": {
        "colab": {
          "base_uri": "https://localhost:8080/"
        },
        "id": "tfqxgarxXI1e",
        "outputId": "f84bc4c0-40ed-4ee7-c81d-308f4541cdf3"
      },
      "execution_count": null,
      "outputs": [
        {
          "output_type": "stream",
          "name": "stdout",
          "text": [
            "+------------+-------+-----------+---------+--------+\n",
            "|nome_planeta|galaxia|diametro_km|populacao|   clima|\n",
            "+------------+-------+-----------+---------+--------+\n",
            "| Planeta_331|  Orion|      19982|  4098750|tropical|\n",
            "+------------+-------+-----------+---------+--------+\n",
            "only showing top 1 row\n",
            "\n",
            "+------------+---------+-----------+---------+--------+\n",
            "|nome_planeta|  galaxia|diametro_km|populacao|   clima|\n",
            "+------------+---------+-----------+---------+--------+\n",
            "| Planeta_451|Milky Way|       5010|  4277075|tropical|\n",
            "+------------+---------+-----------+---------+--------+\n",
            "only showing top 1 row\n",
            "\n"
          ]
        }
      ]
    },
    {
      "cell_type": "code",
      "source": [
        "#3. Quais galáxias aparecem na coluna galáxia?\n",
        "\n",
        "#df.groupBy(\"nome_planeta\").show()\n",
        "\n",
        "#df.groupBy(\"nome_planeta\").agg().show()\n",
        "\n",
        "#tentar sem contar depois\n",
        "df.groupBy(\"galaxia\").count().show()"
      ],
      "metadata": {
        "colab": {
          "base_uri": "https://localhost:8080/"
        },
        "id": "_0YgPPfbXxt5",
        "outputId": "d8a92f3d-2fae-418d-f37c-34f60b2ee9b2"
      },
      "execution_count": null,
      "outputs": [
        {
          "output_type": "stream",
          "name": "stdout",
          "text": [
            "+---------+-----+\n",
            "|  galaxia|count|\n",
            "+---------+-----+\n",
            "| Centauri|  157|\n",
            "|    Orion|  146|\n",
            "|Andromeda|  158|\n",
            "|  Pegasus|  165|\n",
            "|Milky Way|  174|\n",
            "+---------+-----+\n",
            "\n"
          ]
        }
      ]
    },
    {
      "cell_type": "code",
      "source": [
        "#4. Liste os planetas com população maior que 1 milhão, ordenados pelo diâmetro.\n",
        "\n",
        "\n",
        "#df.orderBy(col(\"diametro_km\").desc()).show(20)\n",
        "\n",
        "df.filter(df.populacao > 1000000).orderBy(\"diametro_km\").show()\n",
        "#df3.count()"
      ],
      "metadata": {
        "colab": {
          "base_uri": "https://localhost:8080/"
        },
        "id": "pugVgDsZZNIa",
        "outputId": "0be1b5e6-411e-49cd-b26e-112fde6a7567"
      },
      "execution_count": null,
      "outputs": [
        {
          "output_type": "stream",
          "name": "stdout",
          "text": [
            "+------------+---------+-----------+---------+---------+\n",
            "|nome_planeta|  galaxia|diametro_km|populacao|    clima|\n",
            "+------------+---------+-----------+---------+---------+\n",
            "| Planeta_451|Milky Way|       5010|  4277075| tropical|\n",
            "| Planeta_162|Milky Way|       5021|  4991808|   gelado|\n",
            "| Planeta_762|    Orion|       5032|  2980099| tropical|\n",
            "| Planeta_932|    Orion|       5071|  4361429|temperado|\n",
            "| Planeta_980|  Pegasus|       5086|  1307114|  deserto|\n",
            "| Planeta_161|Milky Way|       5086|  4624505|   gelado|\n",
            "| Planeta_789|  Pegasus|       5129|  3616370|temperado|\n",
            "| Planeta_544|    Orion|       5141|  1307928|   gelado|\n",
            "| Planeta_293| Centauri|       5182|  1360631|    árido|\n",
            "| Planeta_849|Milky Way|       5195|  2757610|   gelado|\n",
            "| Planeta_560| Centauri|       5202|  1859519|temperado|\n",
            "| Planeta_849|    Orion|       5232|  3239577|temperado|\n",
            "| Planeta_385| Centauri|       5242|  4906638|    árido|\n",
            "| Planeta_656|  Pegasus|       5276|  4079801| tropical|\n",
            "| Planeta_406| Centauri|       5284|  4667850| tropical|\n",
            "| Planeta_613|    Orion|       5292|  1336628|temperado|\n",
            "| Planeta_785| Centauri|       5312|  1790748|    árido|\n",
            "| Planeta_529|Milky Way|       5319|  1983230|temperado|\n",
            "| Planeta_450|Milky Way|       5343|  4735024|    árido|\n",
            "| Planeta_858| Centauri|       5354|  4645835|temperado|\n",
            "+------------+---------+-----------+---------+---------+\n",
            "only showing top 20 rows\n",
            "\n"
          ]
        }
      ]
    },
    {
      "cell_type": "code",
      "source": [
        "#5. Quantos planetas têm clima temperado?\n",
        "\n",
        "df.filter(df.clima == \"temperado\").count()\n",
        "\n",
        "#df.groupBy(\"clima\").count().show()\n",
        "\n",
        "\n"
      ],
      "metadata": {
        "colab": {
          "base_uri": "https://localhost:8080/"
        },
        "id": "v3eFOp01cYHw",
        "outputId": "48b80a20-d213-45bb-dffe-0436d5145021"
      },
      "execution_count": null,
      "outputs": [
        {
          "output_type": "execute_result",
          "data": {
            "text/plain": [
              "167"
            ]
          },
          "metadata": {},
          "execution_count": 76
        }
      ]
    },
    {
      "cell_type": "code",
      "source": [
        "#6. Liste todos os planetas de uma galáxia específica (ex.: “Andromeda”)\n",
        "\n",
        "df.filter(df.galaxia == \"Andromeda\").show(158)\n",
        "#df.filter(df.galaxia == \"Andromeda\").count()\n"
      ],
      "metadata": {
        "colab": {
          "base_uri": "https://localhost:8080/"
        },
        "id": "47nTcN6rdvoY",
        "outputId": "1b36cf64-033a-4b19-e060-d1dca3c1240b"
      },
      "execution_count": null,
      "outputs": [
        {
          "output_type": "stream",
          "name": "stdout",
          "text": [
            "+------------+---------+-----------+---------+---------+\n",
            "|nome_planeta|  galaxia|diametro_km|populacao|    clima|\n",
            "+------------+---------+-----------+---------+---------+\n",
            "| Planeta_338|Andromeda|      14659|   105641|   gelado|\n",
            "| Planeta_989|Andromeda|       8940|  2514976|  deserto|\n",
            "| Planeta_746|Andromeda|       6658|  4218662|temperado|\n",
            "| Planeta_935|Andromeda|      15025|  3699484|temperado|\n",
            "| Planeta_935|Andromeda|      13073|  4098984|temperado|\n",
            "| Planeta_400|Andromeda|       6299|  3454152|  deserto|\n",
            "| Planeta_896|Andromeda|       9568|  4739127|  deserto|\n",
            "| Planeta_286|Andromeda|       9183|  3389464|   gelado|\n",
            "| Planeta_418|Andromeda|       9472|  4871393|   gelado|\n",
            "|  Planeta_91|Andromeda|       5944|  1354742|  deserto|\n",
            "| Planeta_658|Andromeda|       8587|  3159448|temperado|\n",
            "| Planeta_181|Andromeda|      14031|  3085222|    árido|\n",
            "| Planeta_135|Andromeda|      16136|  4475641|temperado|\n",
            "| Planeta_744|Andromeda|      17777|  2938443|    árido|\n",
            "|  Planeta_29|Andromeda|       5544|  1362013|    árido|\n",
            "| Planeta_216|Andromeda|      11770|  1314295|   gelado|\n",
            "| Planeta_942|Andromeda|      19543|   772295|  deserto|\n",
            "| Planeta_321|Andromeda|      10894|  1675651|    árido|\n",
            "| Planeta_728|Andromeda|       9741|   290402| tropical|\n",
            "| Planeta_377|Andromeda|      17186|  4618361|temperado|\n",
            "| Planeta_311|Andromeda|      11685|  1524885| tropical|\n",
            "| Planeta_852|Andromeda|      10374|  4479242| tropical|\n",
            "| Planeta_291|Andromeda|      12973|  3768640|   gelado|\n",
            "| Planeta_204|Andromeda|       9861|  3910428|temperado|\n",
            "| Planeta_452|Andromeda|      15376|  3713683|  deserto|\n",
            "| Planeta_353|Andromeda|      12517|  3345081|   gelado|\n",
            "| Planeta_957|Andromeda|      13760|  1013810|    árido|\n",
            "| Planeta_606|Andromeda|       5587|  2175366|    árido|\n",
            "| Planeta_164|Andromeda|       6421|  3835058|temperado|\n",
            "| Planeta_225|Andromeda|       8314|  4817724|    árido|\n",
            "| Planeta_122|Andromeda|      15370|  1073306|   gelado|\n",
            "| Planeta_698|Andromeda|      10206|  2822052|  deserto|\n",
            "| Planeta_891|Andromeda|      19444|  2825296|temperado|\n",
            "| Planeta_425|Andromeda|      10347|  4216440|temperado|\n",
            "| Planeta_490|Andromeda|      10231|  3227005| tropical|\n",
            "| Planeta_689|Andromeda|       8992|  4196370| tropical|\n",
            "| Planeta_601|Andromeda|       9285|  4397908|   gelado|\n",
            "| Planeta_311|Andromeda|      18371|  1813805| tropical|\n",
            "| Planeta_165|Andromeda|       6228|  2681589|  deserto|\n",
            "| Planeta_611|Andromeda|      12157|  1104086|temperado|\n",
            "| Planeta_194|Andromeda|       9984|  2089523|    árido|\n",
            "| Planeta_519|Andromeda|      18687|   519387|    árido|\n",
            "| Planeta_785|Andromeda|      18783|  2811939|   gelado|\n",
            "|  Planeta_56|Andromeda|       8544|  1944401|   gelado|\n",
            "| Planeta_720|Andromeda|      16977|  4970758| tropical|\n",
            "| Planeta_660|Andromeda|      18312|   810670|   gelado|\n",
            "| Planeta_450|Andromeda|      17710|  1721969|  deserto|\n",
            "| Planeta_138|Andromeda|       9339|  4460975|temperado|\n",
            "| Planeta_750|Andromeda|      14027|  1506645|  deserto|\n",
            "| Planeta_862|Andromeda|      16322|  3696158|  deserto|\n",
            "| Planeta_973|Andromeda|       7453|   585651|    árido|\n",
            "|  Planeta_77|Andromeda|      13724|   858607| tropical|\n",
            "| Planeta_164|Andromeda|       9699|  2014067|temperado|\n",
            "| Planeta_752|Andromeda|      16763|  4288616|   gelado|\n",
            "| Planeta_866|Andromeda|      10124|  4336207| tropical|\n",
            "|  Planeta_87|Andromeda|      16307|  1494235| tropical|\n",
            "| Planeta_223|Andromeda|      18033|  3135446|temperado|\n",
            "|   Planeta_1|Andromeda|      14665|  3115259|  deserto|\n",
            "| Planeta_799|Andromeda|      12745|  2285228| tropical|\n",
            "| Planeta_131|Andromeda|       7170|  1008784|    árido|\n",
            "| Planeta_690|Andromeda|      13741|  3472891|  deserto|\n",
            "| Planeta_109|Andromeda|       8060|  4102219|   gelado|\n",
            "| Planeta_608|Andromeda|       6242|  3393078|  deserto|\n",
            "| Planeta_602|Andromeda|      17819|   150143| tropical|\n",
            "| Planeta_445|Andromeda|      16040|  1620899| tropical|\n",
            "| Planeta_441|Andromeda|       9029|  4067856|    árido|\n",
            "| Planeta_269|Andromeda|      17709|  1719118|   gelado|\n",
            "| Planeta_877|Andromeda|      13555|  3110520|  deserto|\n",
            "| Planeta_980|Andromeda|      16625|   702064|  deserto|\n",
            "| Planeta_663|Andromeda|       7189|  3135662|temperado|\n",
            "| Planeta_623|Andromeda|      19796|  2591896|   gelado|\n",
            "| Planeta_411|Andromeda|       7500|   823273|   gelado|\n",
            "| Planeta_418|Andromeda|      18043|  2090676| tropical|\n",
            "| Planeta_890|Andromeda|       5810|  3858006|  deserto|\n",
            "| Planeta_211|Andromeda|       7655|  4340090|   gelado|\n",
            "| Planeta_192|Andromeda|      16293|   293616| tropical|\n",
            "| Planeta_415|Andromeda|       6501|  4638223|    árido|\n",
            "|  Planeta_76|Andromeda|      13356|  2737449| tropical|\n",
            "| Planeta_559|Andromeda|      12423|   816169|    árido|\n",
            "| Planeta_672|Andromeda|      18862|  3303313|   gelado|\n",
            "| Planeta_876|Andromeda|      18001|  2910547|   gelado|\n",
            "| Planeta_283|Andromeda|      10203|   565696|   gelado|\n",
            "| Planeta_913|Andromeda|      11785|  2584257|temperado|\n",
            "| Planeta_885|Andromeda|      13503|  2644979|   gelado|\n",
            "| Planeta_525|Andromeda|       5734|  4007769| tropical|\n",
            "| Planeta_650|Andromeda|      18068|  2793160|  deserto|\n",
            "| Planeta_874|Andromeda|       8283|  4999336|    árido|\n",
            "| Planeta_721|Andromeda|      10105|   182001|  deserto|\n",
            "| Planeta_877|Andromeda|       7953|   891431|   gelado|\n",
            "| Planeta_485|Andromeda|      16217|  3776566|    árido|\n",
            "| Planeta_283|Andromeda|      18326|  3193016|temperado|\n",
            "| Planeta_106|Andromeda|       9222|  4420093| tropical|\n",
            "| Planeta_299|Andromeda|       7437|  1892209|temperado|\n",
            "| Planeta_941|Andromeda|       5340|   560099|    árido|\n",
            "| Planeta_453|Andromeda|      17377|  3619332|temperado|\n",
            "| Planeta_166|Andromeda|      15035|  2007276| tropical|\n",
            "| Planeta_441|Andromeda|       7715|  3593103|   gelado|\n",
            "| Planeta_784|Andromeda|      11573|  4027653|temperado|\n",
            "| Planeta_502|Andromeda|      14463|  4901817| tropical|\n",
            "| Planeta_487|Andromeda|       7701|  4835795|  deserto|\n",
            "| Planeta_990|Andromeda|      16984|   838069|   gelado|\n",
            "| Planeta_160|Andromeda|      10750|  4416134|    árido|\n",
            "| Planeta_197|Andromeda|      16707|  2092660|temperado|\n",
            "| Planeta_702|Andromeda|      14952|   328122|    árido|\n",
            "|  Planeta_25|Andromeda|       9281|  4212399| tropical|\n",
            "| Planeta_665|Andromeda|       7763|  1661188|    árido|\n",
            "| Planeta_145|Andromeda|      19298|  4399984|   gelado|\n",
            "| Planeta_610|Andromeda|      16103|   250404|   gelado|\n",
            "| Planeta_414|Andromeda|      17235|  2632457| tropical|\n",
            "| Planeta_434|Andromeda|      15333|  4209446|   gelado|\n",
            "| Planeta_744|Andromeda|      11722|  4024106|    árido|\n",
            "| Planeta_338|Andromeda|      14478|   625264|  deserto|\n",
            "|  Planeta_49|Andromeda|      18381|    72421| tropical|\n",
            "| Planeta_411|Andromeda|      17535|  3369886|    árido|\n",
            "| Planeta_190|Andromeda|       8328|  1326250|    árido|\n",
            "| Planeta_699|Andromeda|       7068|  2254001|    árido|\n",
            "| Planeta_663|Andromeda|       5554|  1804359|  deserto|\n",
            "| Planeta_263|Andromeda|       8838|  3241394| tropical|\n",
            "| Planeta_903|Andromeda|       7537|  1152656|   gelado|\n",
            "| Planeta_826|Andromeda|      17126|  1287661| tropical|\n",
            "| Planeta_430|Andromeda|       6512|  1604232|    árido|\n",
            "| Planeta_178|Andromeda|      11322|  1289638|temperado|\n",
            "| Planeta_588|Andromeda|       7424|  4140159|   gelado|\n",
            "|  Planeta_78|Andromeda|      13200|   767946|    árido|\n",
            "| Planeta_950|Andromeda|       8598|  1682462|    árido|\n",
            "| Planeta_299|Andromeda|      17300|  4922427|temperado|\n",
            "| Planeta_175|Andromeda|       8510|  3401434|   gelado|\n",
            "|  Planeta_18|Andromeda|      14318|  2465015| tropical|\n",
            "| Planeta_397|Andromeda|      11556|    68758|   gelado|\n",
            "| Planeta_442|Andromeda|       9234|   373175| tropical|\n",
            "| Planeta_504|Andromeda|       7518|  2092921|temperado|\n",
            "| Planeta_178|Andromeda|      11485|  4679692|   gelado|\n",
            "| Planeta_444|Andromeda|       8913|  4409737|   gelado|\n",
            "| Planeta_614|Andromeda|       8266|  1291718|  deserto|\n",
            "| Planeta_279|Andromeda|      16988|  1672692|    árido|\n",
            "| Planeta_614|Andromeda|      14195|  1782344| tropical|\n",
            "| Planeta_559|Andromeda|      18867|  2480328|    árido|\n",
            "| Planeta_949|Andromeda|      11502|  3757084|  deserto|\n",
            "| Planeta_135|Andromeda|       9208|  4211836|temperado|\n",
            "| Planeta_607|Andromeda|       7914|  1454632|temperado|\n",
            "| Planeta_126|Andromeda|      19847|  1349728|   gelado|\n",
            "| Planeta_628|Andromeda|       8246|  1584857|   gelado|\n",
            "| Planeta_359|Andromeda|       5793|  4429667|  deserto|\n",
            "| Planeta_605|Andromeda|       9689|  4823075|    árido|\n",
            "| Planeta_834|Andromeda|      17059|  2268962|   gelado|\n",
            "| Planeta_502|Andromeda|      14380|   828000|temperado|\n",
            "|  Planeta_86|Andromeda|      17398|   874968|temperado|\n",
            "| Planeta_291|Andromeda|      10079|  1371996|  deserto|\n",
            "| Planeta_842|Andromeda|      10067|  1169853|   gelado|\n",
            "| Planeta_709|Andromeda|      14369|   100342|  deserto|\n",
            "| Planeta_869|Andromeda|      15041|  2711303|  deserto|\n",
            "|  Planeta_56|Andromeda|      13960|  4692973|temperado|\n",
            "| Planeta_687|Andromeda|      10767|  2574580| tropical|\n",
            "| Planeta_271|Andromeda|      10046|  1120449|   gelado|\n",
            "| Planeta_843|Andromeda|      15282|  3878526| tropical|\n",
            "| Planeta_208|Andromeda|      14407|  2209962|  deserto|\n",
            "| Planeta_515|Andromeda|      16636|  1503331|  deserto|\n",
            "| Planeta_458|Andromeda|       6621|   407107|temperado|\n",
            "+------------+---------+-----------+---------+---------+\n",
            "\n"
          ]
        }
      ]
    },
    {
      "cell_type": "code",
      "source": [
        "#7. Qual é o diâmetro médio dos planetas de cada galáxia?\n",
        "\n",
        "\n",
        "df.groupBy(\"galaxia\").avg(\"diametro_km\").show()\n",
        "\n",
        "\n"
      ],
      "metadata": {
        "colab": {
          "base_uri": "https://localhost:8080/"
        },
        "id": "kRAiqwaeeOB4",
        "outputId": "49b17796-1140-443f-f31b-975806c6f16e"
      },
      "execution_count": null,
      "outputs": [
        {
          "output_type": "stream",
          "name": "stdout",
          "text": [
            "+---------+------------------+\n",
            "|  galaxia|  avg(diametro_km)|\n",
            "+---------+------------------+\n",
            "| Centauri|12638.464968152866|\n",
            "|    Orion|12885.034246575342|\n",
            "|Andromeda| 12232.12658227848|\n",
            "|  Pegasus|12471.018181818183|\n",
            "|Milky Way|12435.011494252874|\n",
            "+---------+------------------+\n",
            "\n"
          ]
        }
      ]
    },
    {
      "cell_type": "code",
      "source": [
        "#8. Qual é o planeta mais populoso de cada galáxia?\n",
        "\n",
        "#agg(max(\"coluna\")), agg(min(\"coluna\")):\n",
        "\n",
        "\n",
        "df.filter(df.galaxia == \"Centauri\").orderBy(col(\"populacao\").desc()).show(1)\n",
        "df.filter(df.galaxia == \"Orion\").orderBy(col(\"populacao\").desc()).show(1)\n",
        "df.filter(df.galaxia == \"Andromeda\").orderBy(col(\"populacao\").desc()).show(1)\n",
        "df.filter(df.galaxia == \"Pegasus\").orderBy(col(\"populacao\").desc()).show(1)\n",
        "df.filter(df.galaxia == \"Milky Way\").orderBy(col(\"populacao\").desc()).show(1)\n",
        "\n",
        "\n"
      ],
      "metadata": {
        "colab": {
          "base_uri": "https://localhost:8080/"
        },
        "id": "SxaclzEEe89a",
        "outputId": "c17c213e-860c-406e-df29-754a9b7c7160"
      },
      "execution_count": null,
      "outputs": [
        {
          "output_type": "stream",
          "name": "stdout",
          "text": [
            "+------------+--------+-----------+---------+------+\n",
            "|nome_planeta| galaxia|diametro_km|populacao| clima|\n",
            "+------------+--------+-----------+---------+------+\n",
            "| Planeta_257|Centauri|      11081|  4990280|gelado|\n",
            "+------------+--------+-----------+---------+------+\n",
            "only showing top 1 row\n",
            "\n",
            "+------------+-------+-----------+---------+-------+\n",
            "|nome_planeta|galaxia|diametro_km|populacao|  clima|\n",
            "+------------+-------+-----------+---------+-------+\n",
            "|   Planeta_1|  Orion|      15866|  4941877|deserto|\n",
            "+------------+-------+-----------+---------+-------+\n",
            "only showing top 1 row\n",
            "\n",
            "+------------+---------+-----------+---------+-----+\n",
            "|nome_planeta|  galaxia|diametro_km|populacao|clima|\n",
            "+------------+---------+-----------+---------+-----+\n",
            "| Planeta_874|Andromeda|       8283|  4999336|árido|\n",
            "+------------+---------+-----------+---------+-----+\n",
            "only showing top 1 row\n",
            "\n",
            "+------------+-------+-----------+---------+---------+\n",
            "|nome_planeta|galaxia|diametro_km|populacao|    clima|\n",
            "+------------+-------+-----------+---------+---------+\n",
            "| Planeta_427|Pegasus|      14945|  4946063|temperado|\n",
            "+------------+-------+-----------+---------+---------+\n",
            "only showing top 1 row\n",
            "\n",
            "+------------+---------+-----------+---------+---------+\n",
            "|nome_planeta|  galaxia|diametro_km|populacao|    clima|\n",
            "+------------+---------+-----------+---------+---------+\n",
            "| Planeta_522|Milky Way|      14291|  4994318|temperado|\n",
            "+------------+---------+-----------+---------+---------+\n",
            "only showing top 1 row\n",
            "\n"
          ]
        }
      ]
    },
    {
      "cell_type": "code",
      "source": [
        "#9. Liste os planetas cujo diâmetro é maior que 10.000 km e que tenham população menor que 1 milhão.\n",
        "\n",
        "\n",
        "df.filter((df.diametro_km > 10000) & (df.populacao < 1000000)).show()"
      ],
      "metadata": {
        "colab": {
          "base_uri": "https://localhost:8080/"
        },
        "id": "iUBfbUPKkdHE",
        "outputId": "c78b884d-3cb0-4f4d-d445-05edc86ecdbd"
      },
      "execution_count": null,
      "outputs": [
        {
          "output_type": "stream",
          "name": "stdout",
          "text": [
            "+------------+---------+-----------+---------+---------+\n",
            "|nome_planeta|  galaxia|diametro_km|populacao|    clima|\n",
            "+------------+---------+-----------+---------+---------+\n",
            "| Planeta_338|Andromeda|      14659|   105641|   gelado|\n",
            "|  Planeta_95| Centauri|      10644|   861663|   gelado|\n",
            "|  Planeta_66|  Pegasus|      13743|   470149|temperado|\n",
            "|  Planeta_22|Milky Way|      16226|   702080|temperado|\n",
            "|  Planeta_74|Milky Way|      12378|   731893|    árido|\n",
            "|  Planeta_94|    Orion|      18158|   633780|    árido|\n",
            "| Planeta_600|  Pegasus|      11246|   738581|    árido|\n",
            "| Planeta_394|Milky Way|      12393|   690748|  deserto|\n",
            "| Planeta_942|Andromeda|      19543|   772295|  deserto|\n",
            "| Planeta_471|  Pegasus|      13793|   456809|  deserto|\n",
            "|  Planeta_55| Centauri|      18217|   300556| tropical|\n",
            "| Planeta_357|Milky Way|      11791|   386887|temperado|\n",
            "| Planeta_296|    Orion|      13889|      329|    árido|\n",
            "| Planeta_142|    Orion|      13143|   704500|  deserto|\n",
            "|  Planeta_45|Milky Way|      19759|   490151|  deserto|\n",
            "| Planeta_540|    Orion|      19103|   213121|   gelado|\n",
            "| Planeta_504|  Pegasus|      12568|   982836|temperado|\n",
            "| Planeta_817| Centauri|      11052|   706344|temperado|\n",
            "| Planeta_882|  Pegasus|      18011|   727669|temperado|\n",
            "| Planeta_519|Andromeda|      18687|   519387|    árido|\n",
            "+------------+---------+-----------+---------+---------+\n",
            "only showing top 20 rows\n",
            "\n"
          ]
        }
      ]
    },
    {
      "cell_type": "code",
      "source": [
        "#10. Ordene os planetas por população em ordem crescente.\n",
        "\n",
        "df.orderBy(col(\"populacao\").asc()).show()\n",
        "\n",
        "#df.orderBy(col(\"populacao\").desc()).show(5)"
      ],
      "metadata": {
        "colab": {
          "base_uri": "https://localhost:8080/"
        },
        "id": "fhI0ZC3hlk1a",
        "outputId": "d025e64d-28b6-4db2-e146-2754d3b8dcd1"
      },
      "execution_count": null,
      "outputs": [
        {
          "output_type": "stream",
          "name": "stdout",
          "text": [
            "+------------+---------+-----------+---------+---------+\n",
            "|nome_planeta|  galaxia|diametro_km|populacao|    clima|\n",
            "+------------+---------+-----------+---------+---------+\n",
            "| Planeta_296|    Orion|      13889|      329|    árido|\n",
            "| Planeta_579|    Orion|       9925|     5372|  deserto|\n",
            "|  Planeta_67|    Orion|      15772|     8127|temperado|\n",
            "| Planeta_779|Milky Way|      16672|    33079|temperado|\n",
            "| Planeta_953| Centauri|       9931|    35756|   gelado|\n",
            "| Planeta_962|    Orion|      14717|    63809|    árido|\n",
            "|  Planeta_51| Centauri|      15923|    65398|  deserto|\n",
            "| Planeta_397|Andromeda|      11556|    68758|   gelado|\n",
            "| Planeta_950|  Pegasus|      16336|    72005|  deserto|\n",
            "|  Planeta_49|Andromeda|      18381|    72421| tropical|\n",
            "| Planeta_376|  Pegasus|      10547|    74453|temperado|\n",
            "| Planeta_232|Milky Way|       6398|    75778| tropical|\n",
            "| Planeta_926| Centauri|       5556|    85720|temperado|\n",
            "| Planeta_200|  Pegasus|      11331|    96261|  deserto|\n",
            "| Planeta_675|Milky Way|      15512|    96572| tropical|\n",
            "| Planeta_577|    Orion|       5546|   100240|    árido|\n",
            "| Planeta_709|Andromeda|      14369|   100342|  deserto|\n",
            "| Planeta_579|  Pegasus|      11002|   104036|  deserto|\n",
            "| Planeta_338|Andromeda|      14659|   105641|   gelado|\n",
            "|  Planeta_49|  Pegasus|       7064|   118287| tropical|\n",
            "+------------+---------+-----------+---------+---------+\n",
            "only showing top 20 rows\n",
            "\n"
          ]
        }
      ]
    },
    {
      "cell_type": "code",
      "source": [
        "#11. Mostre apenas os planetas com clima “deserto” ou “árido”.\n",
        "\n",
        "df.filter((df.clima == \"deserto\") | (df.clima == \"árido\")).show()"
      ],
      "metadata": {
        "colab": {
          "base_uri": "https://localhost:8080/"
        },
        "id": "qmnETmEbmCqb",
        "outputId": "c67f622c-41ce-420d-fc45-c93f800b5267"
      },
      "execution_count": null,
      "outputs": [
        {
          "output_type": "stream",
          "name": "stdout",
          "text": [
            "+------------+---------+-----------+---------+-------+\n",
            "|nome_planeta|  galaxia|diametro_km|populacao|  clima|\n",
            "+------------+---------+-----------+---------+-------+\n",
            "| Planeta_344| Centauri|      15309|  2955484|deserto|\n",
            "| Planeta_450|Milky Way|       5343|  4735024|  árido|\n",
            "| Planeta_536|Milky Way|       8637|  1640196|deserto|\n",
            "| Planeta_346| Centauri|      19507|  1217896|deserto|\n",
            "| Planeta_699|Milky Way|       8532|  1619718|deserto|\n",
            "| Planeta_989|Andromeda|       8940|  2514976|deserto|\n",
            "| Planeta_601|    Orion|      16658|  3087672|deserto|\n",
            "|  Planeta_90|  Pegasus|      16404|  2037800|deserto|\n",
            "| Planeta_625| Centauri|      13911|  3371226|  árido|\n",
            "| Planeta_886|  Pegasus|       9947|  2672845|  árido|\n",
            "| Planeta_800|Milky Way|       9602|  1198722|  árido|\n",
            "| Planeta_454|Milky Way|       8476|  2047951|deserto|\n",
            "| Planeta_589|    Orion|       9751|  1160443|deserto|\n",
            "| Planeta_400|Andromeda|       6299|  3454152|deserto|\n",
            "| Planeta_896|Andromeda|       9568|  4739127|deserto|\n",
            "| Planeta_752|  Pegasus|       6406|  4812379|  árido|\n",
            "|  Planeta_91|Andromeda|       5944|  1354742|deserto|\n",
            "| Planeta_996|  Pegasus|      16620|  4636455|  árido|\n",
            "| Planeta_571| Centauri|       9681|  4386687|deserto|\n",
            "| Planeta_564|    Orion|      19567|  2529785|deserto|\n",
            "+------------+---------+-----------+---------+-------+\n",
            "only showing top 20 rows\n",
            "\n"
          ]
        }
      ]
    }
  ]
}